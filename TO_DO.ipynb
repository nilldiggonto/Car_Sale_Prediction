{
 "cells": [
  {
   "cell_type": "markdown",
   "metadata": {},
   "source": [
    "# PREDICTING THE SALE PRICE OF BULLDOZERS\n",
    "### https://www.kaggle.com/c/bluebook-for-bulldozers/overview"
   ]
  },
  {
   "cell_type": "markdown",
   "metadata": {},
   "source": [
    "## Problem to solve\n",
    "* Predicting sales price of bulldozers and to compare with previous solution\n",
    "\n",
    "## DATA\n",
    "* https://www.kaggle.com/c/bluebook-for-bulldozers/data (Three main data sets)\n",
    "   *  Train.csv is the training set, which contains data through the end of 2011.\n",
    "   *  Valid.csv is the validation set, which contains data from January 1, 2012 - April 30, 2012 You make predictions on this set throughout the majority of the competition. Your score on this set is used to create the public leaderboard.\n",
    "   *  Test.csv is the test set, which won't be released until the last week of the competition. It contains data from May 1, 2012 - November 2012. Your score on the test set determines your final rank for the competition.\n",
    "    \n",
    "## EVALUATION\n",
    "\n",
    " * https://www.kaggle.com/c/bluebook-for-bulldozers/overview/evaluation\n",
    " * The evaluation metric for this competition is the RMSLE (root mean squared log error) between the actual and predicted auction prices.\n",
    " * To find the minimize error\n",
    " \n",
    "## FEATURE\n",
    "\n",
    " *  https://www.kaggle.com/c/bluebook-for-bulldozers/data? *Data Dictionary to check all feature details"
   ]
  },
  {
   "cell_type": "code",
   "execution_count": null,
   "metadata": {},
   "outputs": [],
   "source": []
  }
 ],
 "metadata": {
  "kernelspec": {
   "display_name": "Python 3",
   "language": "python",
   "name": "python3"
  },
  "language_info": {
   "codemirror_mode": {
    "name": "ipython",
    "version": 3
   },
   "file_extension": ".py",
   "mimetype": "text/x-python",
   "name": "python",
   "nbconvert_exporter": "python",
   "pygments_lexer": "ipython3",
   "version": "3.7.0"
  }
 },
 "nbformat": 4,
 "nbformat_minor": 2
}
