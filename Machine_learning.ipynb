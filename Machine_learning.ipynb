{
 "cells": [
  {
   "cell_type": "code",
   "execution_count": 1,
   "metadata": {},
   "outputs": [],
   "source": [
    "import numpy as np\n",
    "import pandas as pd\n",
    "import matplotlib.pyplot as plt\n",
    "import seaborn as sns\n",
    "sns.set(palette='rainbow')"
   ]
  },
  {
   "cell_type": "code",
   "execution_count": 2,
   "metadata": {},
   "outputs": [],
   "source": [
    "df = pd.read_csv('sales_clean_data.csv',low_memory=False)"
   ]
  },
  {
   "cell_type": "code",
   "execution_count": 3,
   "metadata": {},
   "outputs": [],
   "source": [
    "data = df.copy()"
   ]
  },
  {
   "cell_type": "code",
   "execution_count": 4,
   "metadata": {},
   "outputs": [
    {
     "data": {
      "text/html": [
       "<div>\n",
       "<style scoped>\n",
       "    .dataframe tbody tr th:only-of-type {\n",
       "        vertical-align: middle;\n",
       "    }\n",
       "\n",
       "    .dataframe tbody tr th {\n",
       "        vertical-align: top;\n",
       "    }\n",
       "\n",
       "    .dataframe thead th {\n",
       "        text-align: right;\n",
       "    }\n",
       "</style>\n",
       "<table border=\"1\" class=\"dataframe\">\n",
       "  <thead>\n",
       "    <tr style=\"text-align: right;\">\n",
       "      <th></th>\n",
       "      <th>0</th>\n",
       "      <th>1</th>\n",
       "    </tr>\n",
       "  </thead>\n",
       "  <tbody>\n",
       "    <tr>\n",
       "      <th>SalesID</th>\n",
       "      <td>1646770.0</td>\n",
       "      <td>1728883.0</td>\n",
       "    </tr>\n",
       "    <tr>\n",
       "      <th>SalePrice</th>\n",
       "      <td>9500.0</td>\n",
       "      <td>30000.0</td>\n",
       "    </tr>\n",
       "    <tr>\n",
       "      <th>MachineID</th>\n",
       "      <td>1126363.0</td>\n",
       "      <td>1523610.0</td>\n",
       "    </tr>\n",
       "    <tr>\n",
       "      <th>ModelID</th>\n",
       "      <td>8434.0</td>\n",
       "      <td>9105.0</td>\n",
       "    </tr>\n",
       "    <tr>\n",
       "      <th>datasource</th>\n",
       "      <td>132.0</td>\n",
       "      <td>132.0</td>\n",
       "    </tr>\n",
       "    <tr>\n",
       "      <th>auctioneerID</th>\n",
       "      <td>18.0</td>\n",
       "      <td>99.0</td>\n",
       "    </tr>\n",
       "    <tr>\n",
       "      <th>YearMade</th>\n",
       "      <td>1974.0</td>\n",
       "      <td>1986.0</td>\n",
       "    </tr>\n",
       "    <tr>\n",
       "      <th>MachineHoursCurrentMeter</th>\n",
       "      <td>0.0</td>\n",
       "      <td>0.0</td>\n",
       "    </tr>\n",
       "    <tr>\n",
       "      <th>UsageBand</th>\n",
       "      <td>0.0</td>\n",
       "      <td>0.0</td>\n",
       "    </tr>\n",
       "    <tr>\n",
       "      <th>fiModelDesc</th>\n",
       "      <td>4593.0</td>\n",
       "      <td>4772.0</td>\n",
       "    </tr>\n",
       "    <tr>\n",
       "      <th>fiBaseModel</th>\n",
       "      <td>1744.0</td>\n",
       "      <td>1852.0</td>\n",
       "    </tr>\n",
       "    <tr>\n",
       "      <th>fiSecondaryDesc</th>\n",
       "      <td>0.0</td>\n",
       "      <td>0.0</td>\n",
       "    </tr>\n",
       "    <tr>\n",
       "      <th>fiModelSeries</th>\n",
       "      <td>0.0</td>\n",
       "      <td>0.0</td>\n",
       "    </tr>\n",
       "    <tr>\n",
       "      <th>fiModelDescriptor</th>\n",
       "      <td>0.0</td>\n",
       "      <td>0.0</td>\n",
       "    </tr>\n",
       "    <tr>\n",
       "      <th>ProductSize</th>\n",
       "      <td>4.0</td>\n",
       "      <td>0.0</td>\n",
       "    </tr>\n",
       "    <tr>\n",
       "      <th>fiProductClassDesc</th>\n",
       "      <td>47.0</td>\n",
       "      <td>73.0</td>\n",
       "    </tr>\n",
       "    <tr>\n",
       "      <th>state</th>\n",
       "      <td>44.0</td>\n",
       "      <td>9.0</td>\n",
       "    </tr>\n",
       "    <tr>\n",
       "      <th>ProductGroup</th>\n",
       "      <td>5.0</td>\n",
       "      <td>6.0</td>\n",
       "    </tr>\n",
       "    <tr>\n",
       "      <th>ProductGroupDesc</th>\n",
       "      <td>5.0</td>\n",
       "      <td>6.0</td>\n",
       "    </tr>\n",
       "    <tr>\n",
       "      <th>Drive_System</th>\n",
       "      <td>0.0</td>\n",
       "      <td>0.0</td>\n",
       "    </tr>\n",
       "    <tr>\n",
       "      <th>Enclosure</th>\n",
       "      <td>6.0</td>\n",
       "      <td>1.0</td>\n",
       "    </tr>\n",
       "    <tr>\n",
       "      <th>Forks</th>\n",
       "      <td>0.0</td>\n",
       "      <td>0.0</td>\n",
       "    </tr>\n",
       "    <tr>\n",
       "      <th>Pad_Type</th>\n",
       "      <td>0.0</td>\n",
       "      <td>0.0</td>\n",
       "    </tr>\n",
       "    <tr>\n",
       "      <th>Ride_Control</th>\n",
       "      <td>0.0</td>\n",
       "      <td>0.0</td>\n",
       "    </tr>\n",
       "    <tr>\n",
       "      <th>Stick</th>\n",
       "      <td>0.0</td>\n",
       "      <td>0.0</td>\n",
       "    </tr>\n",
       "    <tr>\n",
       "      <th>Transmission</th>\n",
       "      <td>3.0</td>\n",
       "      <td>0.0</td>\n",
       "    </tr>\n",
       "    <tr>\n",
       "      <th>Turbocharged</th>\n",
       "      <td>0.0</td>\n",
       "      <td>0.0</td>\n",
       "    </tr>\n",
       "    <tr>\n",
       "      <th>Blade_Extension</th>\n",
       "      <td>0.0</td>\n",
       "      <td>0.0</td>\n",
       "    </tr>\n",
       "    <tr>\n",
       "      <th>Blade_Width</th>\n",
       "      <td>0.0</td>\n",
       "      <td>0.0</td>\n",
       "    </tr>\n",
       "    <tr>\n",
       "      <th>Enclosure_Type</th>\n",
       "      <td>0.0</td>\n",
       "      <td>0.0</td>\n",
       "    </tr>\n",
       "    <tr>\n",
       "      <th>Engine_Horsepower</th>\n",
       "      <td>0.0</td>\n",
       "      <td>0.0</td>\n",
       "    </tr>\n",
       "    <tr>\n",
       "      <th>Hydraulics</th>\n",
       "      <td>1.0</td>\n",
       "      <td>0.0</td>\n",
       "    </tr>\n",
       "    <tr>\n",
       "      <th>Pushblock</th>\n",
       "      <td>0.0</td>\n",
       "      <td>0.0</td>\n",
       "    </tr>\n",
       "    <tr>\n",
       "      <th>Ripper</th>\n",
       "      <td>2.0</td>\n",
       "      <td>0.0</td>\n",
       "    </tr>\n",
       "    <tr>\n",
       "      <th>Scarifier</th>\n",
       "      <td>0.0</td>\n",
       "      <td>0.0</td>\n",
       "    </tr>\n",
       "    <tr>\n",
       "      <th>Tip_Control</th>\n",
       "      <td>0.0</td>\n",
       "      <td>0.0</td>\n",
       "    </tr>\n",
       "    <tr>\n",
       "      <th>Tire_Size</th>\n",
       "      <td>0.0</td>\n",
       "      <td>14.0</td>\n",
       "    </tr>\n",
       "    <tr>\n",
       "      <th>Coupler</th>\n",
       "      <td>0.0</td>\n",
       "      <td>0.0</td>\n",
       "    </tr>\n",
       "    <tr>\n",
       "      <th>Coupler_System</th>\n",
       "      <td>0.0</td>\n",
       "      <td>0.0</td>\n",
       "    </tr>\n",
       "    <tr>\n",
       "      <th>Grouser_Tracks</th>\n",
       "      <td>0.0</td>\n",
       "      <td>0.0</td>\n",
       "    </tr>\n",
       "    <tr>\n",
       "      <th>Hydraulics_Flow</th>\n",
       "      <td>0.0</td>\n",
       "      <td>0.0</td>\n",
       "    </tr>\n",
       "    <tr>\n",
       "      <th>Track_Type</th>\n",
       "      <td>0.0</td>\n",
       "      <td>0.0</td>\n",
       "    </tr>\n",
       "    <tr>\n",
       "      <th>Undercarriage_Pad_Width</th>\n",
       "      <td>0.0</td>\n",
       "      <td>0.0</td>\n",
       "    </tr>\n",
       "    <tr>\n",
       "      <th>Stick_Length</th>\n",
       "      <td>0.0</td>\n",
       "      <td>0.0</td>\n",
       "    </tr>\n",
       "    <tr>\n",
       "      <th>Thumb</th>\n",
       "      <td>0.0</td>\n",
       "      <td>0.0</td>\n",
       "    </tr>\n",
       "    <tr>\n",
       "      <th>Pattern_Changer</th>\n",
       "      <td>0.0</td>\n",
       "      <td>0.0</td>\n",
       "    </tr>\n",
       "    <tr>\n",
       "      <th>Grouser_Type</th>\n",
       "      <td>0.0</td>\n",
       "      <td>0.0</td>\n",
       "    </tr>\n",
       "    <tr>\n",
       "      <th>Backhoe_Mounting</th>\n",
       "      <td>1.0</td>\n",
       "      <td>0.0</td>\n",
       "    </tr>\n",
       "    <tr>\n",
       "      <th>Blade_Type</th>\n",
       "      <td>8.0</td>\n",
       "      <td>0.0</td>\n",
       "    </tr>\n",
       "    <tr>\n",
       "      <th>Travel_Controls</th>\n",
       "      <td>6.0</td>\n",
       "      <td>0.0</td>\n",
       "    </tr>\n",
       "    <tr>\n",
       "      <th>Differential_Type</th>\n",
       "      <td>0.0</td>\n",
       "      <td>0.0</td>\n",
       "    </tr>\n",
       "    <tr>\n",
       "      <th>Steering_Controls</th>\n",
       "      <td>0.0</td>\n",
       "      <td>0.0</td>\n",
       "    </tr>\n",
       "    <tr>\n",
       "      <th>saleYear</th>\n",
       "      <td>1989.0</td>\n",
       "      <td>1989.0</td>\n",
       "    </tr>\n",
       "    <tr>\n",
       "      <th>saleMonth</th>\n",
       "      <td>1.0</td>\n",
       "      <td>1.0</td>\n",
       "    </tr>\n",
       "    <tr>\n",
       "      <th>saleDay</th>\n",
       "      <td>17.0</td>\n",
       "      <td>31.0</td>\n",
       "    </tr>\n",
       "    <tr>\n",
       "      <th>saleDayOfWeek</th>\n",
       "      <td>1.0</td>\n",
       "      <td>1.0</td>\n",
       "    </tr>\n",
       "    <tr>\n",
       "      <th>saleDayOfYear</th>\n",
       "      <td>17.0</td>\n",
       "      <td>31.0</td>\n",
       "    </tr>\n",
       "  </tbody>\n",
       "</table>\n",
       "</div>"
      ],
      "text/plain": [
       "                                  0          1\n",
       "SalesID                   1646770.0  1728883.0\n",
       "SalePrice                    9500.0    30000.0\n",
       "MachineID                 1126363.0  1523610.0\n",
       "ModelID                      8434.0     9105.0\n",
       "datasource                    132.0      132.0\n",
       "auctioneerID                   18.0       99.0\n",
       "YearMade                     1974.0     1986.0\n",
       "MachineHoursCurrentMeter        0.0        0.0\n",
       "UsageBand                       0.0        0.0\n",
       "fiModelDesc                  4593.0     4772.0\n",
       "fiBaseModel                  1744.0     1852.0\n",
       "fiSecondaryDesc                 0.0        0.0\n",
       "fiModelSeries                   0.0        0.0\n",
       "fiModelDescriptor               0.0        0.0\n",
       "ProductSize                     4.0        0.0\n",
       "fiProductClassDesc             47.0       73.0\n",
       "state                          44.0        9.0\n",
       "ProductGroup                    5.0        6.0\n",
       "ProductGroupDesc                5.0        6.0\n",
       "Drive_System                    0.0        0.0\n",
       "Enclosure                       6.0        1.0\n",
       "Forks                           0.0        0.0\n",
       "Pad_Type                        0.0        0.0\n",
       "Ride_Control                    0.0        0.0\n",
       "Stick                           0.0        0.0\n",
       "Transmission                    3.0        0.0\n",
       "Turbocharged                    0.0        0.0\n",
       "Blade_Extension                 0.0        0.0\n",
       "Blade_Width                     0.0        0.0\n",
       "Enclosure_Type                  0.0        0.0\n",
       "Engine_Horsepower               0.0        0.0\n",
       "Hydraulics                      1.0        0.0\n",
       "Pushblock                       0.0        0.0\n",
       "Ripper                          2.0        0.0\n",
       "Scarifier                       0.0        0.0\n",
       "Tip_Control                     0.0        0.0\n",
       "Tire_Size                       0.0       14.0\n",
       "Coupler                         0.0        0.0\n",
       "Coupler_System                  0.0        0.0\n",
       "Grouser_Tracks                  0.0        0.0\n",
       "Hydraulics_Flow                 0.0        0.0\n",
       "Track_Type                      0.0        0.0\n",
       "Undercarriage_Pad_Width         0.0        0.0\n",
       "Stick_Length                    0.0        0.0\n",
       "Thumb                           0.0        0.0\n",
       "Pattern_Changer                 0.0        0.0\n",
       "Grouser_Type                    0.0        0.0\n",
       "Backhoe_Mounting                1.0        0.0\n",
       "Blade_Type                      8.0        0.0\n",
       "Travel_Controls                 6.0        0.0\n",
       "Differential_Type               0.0        0.0\n",
       "Steering_Controls               0.0        0.0\n",
       "saleYear                     1989.0     1989.0\n",
       "saleMonth                       1.0        1.0\n",
       "saleDay                        17.0       31.0\n",
       "saleDayOfWeek                   1.0        1.0\n",
       "saleDayOfYear                  17.0       31.0"
      ]
     },
     "execution_count": 4,
     "metadata": {},
     "output_type": "execute_result"
    }
   ],
   "source": [
    "data.head(2).T"
   ]
  },
  {
   "cell_type": "code",
   "execution_count": 5,
   "metadata": {},
   "outputs": [
    {
     "name": "stdout",
     "output_type": "stream",
     "text": [
      "<class 'pandas.core.frame.DataFrame'>\n",
      "RangeIndex: 412698 entries, 0 to 412697\n",
      "Data columns (total 57 columns):\n",
      " #   Column                    Non-Null Count   Dtype  \n",
      "---  ------                    --------------   -----  \n",
      " 0   SalesID                   412698 non-null  int64  \n",
      " 1   SalePrice                 412698 non-null  float64\n",
      " 2   MachineID                 412698 non-null  int64  \n",
      " 3   ModelID                   412698 non-null  int64  \n",
      " 4   datasource                412698 non-null  int64  \n",
      " 5   auctioneerID              412698 non-null  float64\n",
      " 6   YearMade                  412698 non-null  int64  \n",
      " 7   MachineHoursCurrentMeter  412698 non-null  float64\n",
      " 8   UsageBand                 412698 non-null  int64  \n",
      " 9   fiModelDesc               412698 non-null  int64  \n",
      " 10  fiBaseModel               412698 non-null  int64  \n",
      " 11  fiSecondaryDesc           412698 non-null  int64  \n",
      " 12  fiModelSeries             412698 non-null  int64  \n",
      " 13  fiModelDescriptor         412698 non-null  int64  \n",
      " 14  ProductSize               412698 non-null  int64  \n",
      " 15  fiProductClassDesc        412698 non-null  int64  \n",
      " 16  state                     412698 non-null  int64  \n",
      " 17  ProductGroup              412698 non-null  int64  \n",
      " 18  ProductGroupDesc          412698 non-null  int64  \n",
      " 19  Drive_System              412698 non-null  int64  \n",
      " 20  Enclosure                 412698 non-null  int64  \n",
      " 21  Forks                     412698 non-null  int64  \n",
      " 22  Pad_Type                  412698 non-null  int64  \n",
      " 23  Ride_Control              412698 non-null  int64  \n",
      " 24  Stick                     412698 non-null  int64  \n",
      " 25  Transmission              412698 non-null  int64  \n",
      " 26  Turbocharged              412698 non-null  int64  \n",
      " 27  Blade_Extension           412698 non-null  int64  \n",
      " 28  Blade_Width               412698 non-null  int64  \n",
      " 29  Enclosure_Type            412698 non-null  int64  \n",
      " 30  Engine_Horsepower         412698 non-null  int64  \n",
      " 31  Hydraulics                412698 non-null  int64  \n",
      " 32  Pushblock                 412698 non-null  int64  \n",
      " 33  Ripper                    412698 non-null  int64  \n",
      " 34  Scarifier                 412698 non-null  int64  \n",
      " 35  Tip_Control               412698 non-null  int64  \n",
      " 36  Tire_Size                 412698 non-null  int64  \n",
      " 37  Coupler                   412698 non-null  int64  \n",
      " 38  Coupler_System            412698 non-null  int64  \n",
      " 39  Grouser_Tracks            412698 non-null  int64  \n",
      " 40  Hydraulics_Flow           412698 non-null  int64  \n",
      " 41  Track_Type                412698 non-null  int64  \n",
      " 42  Undercarriage_Pad_Width   412698 non-null  int64  \n",
      " 43  Stick_Length              412698 non-null  int64  \n",
      " 44  Thumb                     412698 non-null  int64  \n",
      " 45  Pattern_Changer           412698 non-null  int64  \n",
      " 46  Grouser_Type              412698 non-null  int64  \n",
      " 47  Backhoe_Mounting          412698 non-null  int64  \n",
      " 48  Blade_Type                412698 non-null  int64  \n",
      " 49  Travel_Controls           412698 non-null  int64  \n",
      " 50  Differential_Type         412698 non-null  int64  \n",
      " 51  Steering_Controls         412698 non-null  int64  \n",
      " 52  saleYear                  412698 non-null  int64  \n",
      " 53  saleMonth                 412698 non-null  int64  \n",
      " 54  saleDay                   412698 non-null  int64  \n",
      " 55  saleDayOfWeek             412698 non-null  int64  \n",
      " 56  saleDayOfYear             412698 non-null  int64  \n",
      "dtypes: float64(3), int64(54)\n",
      "memory usage: 179.5 MB\n"
     ]
    }
   ],
   "source": [
    "data.info()"
   ]
  },
  {
   "cell_type": "code",
   "execution_count": 6,
   "metadata": {},
   "outputs": [],
   "source": [
    "##############################################################\n",
    "# SkLearn\n",
    "from sklearn.ensemble import RandomForestRegressor"
   ]
  },
  {
   "cell_type": "code",
   "execution_count": 7,
   "metadata": {},
   "outputs": [],
   "source": [
    "from sklearn.model_selection import train_test_split"
   ]
  },
  {
   "cell_type": "code",
   "execution_count": 8,
   "metadata": {},
   "outputs": [],
   "source": [
    "# Featured and label data\n",
    "featured_x = data.drop('SalePrice',axis=1)\n",
    "target_y = data['SalePrice']"
   ]
  },
  {
   "cell_type": "code",
   "execution_count": 9,
   "metadata": {},
   "outputs": [
    {
     "data": {
      "text/plain": [
       "RandomForestRegressor(random_state=22)"
      ]
     },
     "execution_count": 9,
     "metadata": {},
     "output_type": "execute_result"
    }
   ],
   "source": [
    "model = RandomForestRegressor(random_state=22)\n",
    "\n",
    "model.fit(featured_x[:10000],target_y[:10000])\n"
   ]
  },
  {
   "cell_type": "code",
   "execution_count": 10,
   "metadata": {},
   "outputs": [
    {
     "data": {
      "text/plain": [
       "0.9853142646827115"
      ]
     },
     "execution_count": 10,
     "metadata": {},
     "output_type": "execute_result"
    }
   ],
   "source": [
    "model.score(featured_x[:10000],target_y[:10000])"
   ]
  },
  {
   "cell_type": "code",
   "execution_count": 11,
   "metadata": {},
   "outputs": [],
   "source": [
    "################################\n",
    "# Split data and validate"
   ]
  },
  {
   "cell_type": "code",
   "execution_count": 12,
   "metadata": {},
   "outputs": [
    {
     "data": {
      "text/plain": [
       "2009    43849\n",
       "2008    39767\n",
       "2011    35197\n",
       "2010    33390\n",
       "2007    32208\n",
       "2006    21685\n",
       "2005    20463\n",
       "2004    19879\n",
       "2001    17594\n",
       "2000    17415\n",
       "2002    17246\n",
       "2003    15254\n",
       "1998    13046\n",
       "1999    12793\n",
       "2012    11573\n",
       "1997     9785\n",
       "1996     8829\n",
       "1995     8530\n",
       "1994     7929\n",
       "1993     6303\n",
       "1992     5519\n",
       "1991     5109\n",
       "1989     4806\n",
       "1990     4529\n",
       "Name: saleYear, dtype: int64"
      ]
     },
     "execution_count": 12,
     "metadata": {},
     "output_type": "execute_result"
    }
   ],
   "source": [
    "data['saleYear'].value_counts()"
   ]
  },
  {
   "cell_type": "code",
   "execution_count": 13,
   "metadata": {},
   "outputs": [],
   "source": [
    "data_validate = data[data['saleYear']==2012]\n",
    "\n",
    "data_train = data[data['saleYear'] != 2012]\n",
    "\n",
    "data_validate.to_csv('validate.csv',index=False)\n",
    "data_train.to_csv('train.csv',index=False)"
   ]
  },
  {
   "cell_type": "code",
   "execution_count": 14,
   "metadata": {},
   "outputs": [
    {
     "data": {
      "text/plain": [
       "(11573, 401125)"
      ]
     },
     "execution_count": 14,
     "metadata": {},
     "output_type": "execute_result"
    }
   ],
   "source": [
    "len(data_validate) , len(data_train)"
   ]
  },
  {
   "cell_type": "code",
   "execution_count": 15,
   "metadata": {},
   "outputs": [
    {
     "data": {
      "text/plain": [
       "((11573, 57), (401125, 57))"
      ]
     },
     "execution_count": 15,
     "metadata": {},
     "output_type": "execute_result"
    }
   ],
   "source": [
    "data_validate.shape, data_train.shape"
   ]
  },
  {
   "cell_type": "code",
   "execution_count": 16,
   "metadata": {},
   "outputs": [],
   "source": [
    "#train data on validate set\n",
    "x_valid,y_valid = data_validate.drop('SalePrice',axis=1),data_validate['SalePrice']\n",
    "\n",
    "x_train, y_train = data_train.drop('SalePrice',axis=1),data_train['SalePrice']\n",
    "\n"
   ]
  },
  {
   "cell_type": "code",
   "execution_count": 17,
   "metadata": {},
   "outputs": [
    {
     "data": {
      "text/plain": [
       "((401125, 56), (11573, 56))"
      ]
     },
     "execution_count": 17,
     "metadata": {},
     "output_type": "execute_result"
    }
   ],
   "source": [
    "\n",
    "(x_train.shape),(x_valid.shape)"
   ]
  },
  {
   "cell_type": "code",
   "execution_count": 18,
   "metadata": {},
   "outputs": [
    {
     "data": {
      "text/plain": [
       "((401125,), (11573,))"
      ]
     },
     "execution_count": 18,
     "metadata": {},
     "output_type": "execute_result"
    }
   ],
   "source": [
    "(y_train.shape),(y_valid.shape)"
   ]
  },
  {
   "cell_type": "markdown",
   "metadata": {},
   "source": [
    "### EVALUATION FUNCTIONS"
   ]
  },
  {
   "cell_type": "code",
   "execution_count": 19,
   "metadata": {},
   "outputs": [],
   "source": [
    "from sklearn.metrics import mean_squared_log_error, mean_absolute_error, r2_score\n",
    "\n",
    "\n",
    "#root_mean_squared_log_error (RMSLE)\n",
    "\n",
    "def rmsle(y_test,y_preds):\n",
    "    return np.sqrt(mean_squared_log_error(y_test,y_preds))\n",
    "\n"
   ]
  },
  {
   "cell_type": "code",
   "execution_count": 20,
   "metadata": {},
   "outputs": [],
   "source": [
    "\n",
    "\n",
    "# showing scores on different level\n",
    "def scores_model(model,password):\n",
    "    \n",
    "    \n",
    "    \n",
    "   \n",
    "    \n",
    "    train_preds = model.predict(x_train)\n",
    "    \n",
    "    val_preds = model.predict(x_valid)\n",
    "    \n",
    "    if password == 1:\n",
    "        scoress = {'Trained MAE': mean_absolute_error(y_train,train_preds),\n",
    "                 'Valid MAE': mean_absolute_error(y_valid,val_preds),\n",
    "                 'Trained RMSLE':rmsle(y_train,train_preds),\n",
    "                 'Valid RMSLE': rmsle(y_valid,val_preds),\n",
    "                 'Base_train_score':r2_score(y_train,train_preds),\n",
    "                 'Base_valid_score':r2_score(y_valid,val_preds),\n",
    "                 }\n",
    "        return scoress\n",
    "             \n",
    "\n"
   ]
  },
  {
   "cell_type": "code",
   "execution_count": 21,
   "metadata": {},
   "outputs": [],
   "source": [
    "### experiment on less data to reduce time \n",
    "model2 = RandomForestRegressor(random_state=12,max_samples=10000)"
   ]
  },
  {
   "cell_type": "code",
   "execution_count": 22,
   "metadata": {},
   "outputs": [
    {
     "data": {
      "text/plain": [
       "RandomForestRegressor(max_samples=10000, random_state=12)"
      ]
     },
     "execution_count": 22,
     "metadata": {},
     "output_type": "execute_result"
    }
   ],
   "source": [
    "#finding pattern on training data\n",
    "model2.fit(x_train,y_train)"
   ]
  },
  {
   "cell_type": "code",
   "execution_count": 23,
   "metadata": {},
   "outputs": [
    {
     "data": {
      "text/plain": [
       "{'Trained MAE': 5555.00984224369,\n",
       " 'Valid MAE': 7164.614503585934,\n",
       " 'Trained RMSLE': 0.25784382714132925,\n",
       " 'Valid RMSLE': 0.29388139245033945,\n",
       " 'Base_train_score': 0.8609878116627951,\n",
       " 'Base_valid_score': 0.833011506183889}"
      ]
     },
     "execution_count": 23,
     "metadata": {},
     "output_type": "execute_result"
    }
   ],
   "source": [
    "#getting the scores\n",
    "scores_model(model2,1)"
   ]
  },
  {
   "cell_type": "markdown",
   "metadata": {},
   "source": [
    "### Hypertuning with RandomizedSearchCV"
   ]
  },
  {
   "cell_type": "code",
   "execution_count": 25,
   "metadata": {},
   "outputs": [],
   "source": [
    "randSearc_grid = {'n_estimators':np.arange(10,100,10),\n",
    "                 'max_depth':[None,3,5,10],\n",
    "                 'min_samples_split':np.arange(2,20,2),\n",
    "                 'min_samples_leaf':np.arange(1,10,2),\n",
    "                 'max_features':[0.5,1,'sqrt','auto'],\n",
    "                 'max_samples':[10000]}"
   ]
  },
  {
   "cell_type": "code",
   "execution_count": 26,
   "metadata": {},
   "outputs": [],
   "source": [
    "from sklearn.model_selection import RandomizedSearchCV"
   ]
  },
  {
   "cell_type": "code",
   "execution_count": 27,
   "metadata": {},
   "outputs": [
    {
     "name": "stdout",
     "output_type": "stream",
     "text": [
      "Fitting 5 folds for each of 2 candidates, totalling 10 fits\n"
     ]
    },
    {
     "name": "stderr",
     "output_type": "stream",
     "text": [
      "[Parallel(n_jobs=1)]: Using backend SequentialBackend with 1 concurrent workers.\n",
      "[Parallel(n_jobs=1)]: Done  10 out of  10 | elapsed:   46.2s finished\n"
     ]
    },
    {
     "data": {
      "text/plain": [
       "RandomizedSearchCV(cv=5, estimator=RandomForestRegressor(random_state=32),\n",
       "                   n_iter=2,\n",
       "                   param_distributions={'max_depth': [None, 3, 5, 10],\n",
       "                                        'max_features': [0.5, 1, 'sqrt',\n",
       "                                                         'auto'],\n",
       "                                        'max_samples': [10000],\n",
       "                                        'min_samples_leaf': array([1, 3, 5, 7, 9]),\n",
       "                                        'min_samples_split': array([ 2,  4,  6,  8, 10, 12, 14, 16, 18]),\n",
       "                                        'n_estimators': array([10, 20, 30, 40, 50, 60, 70, 80, 90])},\n",
       "                   verbose=True)"
      ]
     },
     "execution_count": 27,
     "metadata": {},
     "output_type": "execute_result"
    }
   ],
   "source": [
    "randSearch_model = RandomizedSearchCV(RandomForestRegressor(random_state=32), param_distributions=randSearc_grid,verbose=True,cv=5,n_iter=2)\n",
    "\n",
    "\n",
    "#fitting the model\n",
    "randSearch_model.fit(x_train,y_train)"
   ]
  },
  {
   "cell_type": "code",
   "execution_count": 28,
   "metadata": {},
   "outputs": [
    {
     "data": {
      "text/plain": [
       "{'n_estimators': 90,\n",
       " 'min_samples_split': 16,\n",
       " 'min_samples_leaf': 3,\n",
       " 'max_samples': 10000,\n",
       " 'max_features': 'auto',\n",
       " 'max_depth': 3}"
      ]
     },
     "execution_count": 28,
     "metadata": {},
     "output_type": "execute_result"
    }
   ],
   "source": [
    "randSearch_model.best_params_"
   ]
  },
  {
   "cell_type": "code",
   "execution_count": 30,
   "metadata": {},
   "outputs": [
    {
     "data": {
      "text/plain": [
       "{'Trained MAE': 11652.129765831158,\n",
       " 'Valid MAE': 13230.268166763239,\n",
       " 'Trained RMSLE': 0.49619006589310305,\n",
       " 'Valid RMSLE': 0.5010359115048153,\n",
       " 'Base_train_score': 0.4935891551657303,\n",
       " 'Base_valid_score': 0.48628780861499765}"
      ]
     },
     "execution_count": 30,
     "metadata": {},
     "output_type": "execute_result"
    }
   ],
   "source": [
    "#Evaluate with RandomizedSearchModel\n",
    "scores_model(randSearch_model,1)"
   ]
  },
  {
   "cell_type": "code",
   "execution_count": 31,
   "metadata": {},
   "outputs": [
    {
     "data": {
      "text/plain": [
       "RandomForestRegressor(max_features=0.5, min_samples_split=14, n_estimators=40)"
      ]
     },
     "execution_count": 31,
     "metadata": {},
     "output_type": "execute_result"
    }
   ],
   "source": [
    "#a ideal model with n_iter =100\n",
    "ideal_model = RandomForestRegressor(n_estimators=40, min_samples_leaf=1,min_samples_split=14, max_features=0.5,max_samples=None)\n",
    "\n",
    "ideal_model.fit(x_train,y_train)"
   ]
  },
  {
   "cell_type": "code",
   "execution_count": 32,
   "metadata": {},
   "outputs": [
    {
     "data": {
      "text/plain": [
       "{'Trained MAE': 2955.964564514001,\n",
       " 'Valid MAE': 5925.636828171389,\n",
       " 'Trained RMSLE': 0.1446727343006687,\n",
       " 'Valid RMSLE': 0.24571707039961124,\n",
       " 'Base_train_score': 0.9588512027324136,\n",
       " 'Base_valid_score': 0.8821769779734366}"
      ]
     },
     "execution_count": 32,
     "metadata": {},
     "output_type": "execute_result"
    }
   ],
   "source": [
    "scores_model(ideal_model,1)"
   ]
  },
  {
   "cell_type": "code",
   "execution_count": 39,
   "metadata": {},
   "outputs": [],
   "source": [
    "############################################# PREDICTION ON TEST DATA ###################################\n",
    "test_data = pd.read_csv('clean_train.csv',low_memory=False)"
   ]
  },
  {
   "cell_type": "code",
   "execution_count": 40,
   "metadata": {},
   "outputs": [
    {
     "name": "stdout",
     "output_type": "stream",
     "text": [
      "<class 'pandas.core.frame.DataFrame'>\n",
      "RangeIndex: 401125 entries, 0 to 401124\n",
      "Data columns (total 56 columns):\n",
      " #   Column                    Non-Null Count   Dtype  \n",
      "---  ------                    --------------   -----  \n",
      " 0   SalesID                   401125 non-null  int64  \n",
      " 1   MachineID                 401125 non-null  int64  \n",
      " 2   ModelID                   401125 non-null  int64  \n",
      " 3   datasource                401125 non-null  int64  \n",
      " 4   auctioneerID              401125 non-null  float64\n",
      " 5   YearMade                  401125 non-null  int64  \n",
      " 6   MachineHoursCurrentMeter  401125 non-null  float64\n",
      " 7   UsageBand                 401125 non-null  int64  \n",
      " 8   fiModelDesc               401125 non-null  int64  \n",
      " 9   fiBaseModel               401125 non-null  int64  \n",
      " 10  fiSecondaryDesc           401125 non-null  int64  \n",
      " 11  fiModelSeries             401125 non-null  int64  \n",
      " 12  fiModelDescriptor         401125 non-null  int64  \n",
      " 13  ProductSize               401125 non-null  int64  \n",
      " 14  fiProductClassDesc        401125 non-null  int64  \n",
      " 15  state                     401125 non-null  int64  \n",
      " 16  ProductGroup              401125 non-null  int64  \n",
      " 17  ProductGroupDesc          401125 non-null  int64  \n",
      " 18  Drive_System              401125 non-null  int64  \n",
      " 19  Enclosure                 401125 non-null  int64  \n",
      " 20  Forks                     401125 non-null  int64  \n",
      " 21  Pad_Type                  401125 non-null  int64  \n",
      " 22  Ride_Control              401125 non-null  int64  \n",
      " 23  Stick                     401125 non-null  int64  \n",
      " 24  Transmission              401125 non-null  int64  \n",
      " 25  Turbocharged              401125 non-null  int64  \n",
      " 26  Blade_Extension           401125 non-null  int64  \n",
      " 27  Blade_Width               401125 non-null  int64  \n",
      " 28  Enclosure_Type            401125 non-null  int64  \n",
      " 29  Engine_Horsepower         401125 non-null  int64  \n",
      " 30  Hydraulics                401125 non-null  int64  \n",
      " 31  Pushblock                 401125 non-null  int64  \n",
      " 32  Ripper                    401125 non-null  int64  \n",
      " 33  Scarifier                 401125 non-null  int64  \n",
      " 34  Tip_Control               401125 non-null  int64  \n",
      " 35  Tire_Size                 401125 non-null  int64  \n",
      " 36  Coupler                   401125 non-null  int64  \n",
      " 37  Coupler_System            401125 non-null  int64  \n",
      " 38  Grouser_Tracks            401125 non-null  int64  \n",
      " 39  Hydraulics_Flow           401125 non-null  int64  \n",
      " 40  Track_Type                401125 non-null  int64  \n",
      " 41  Undercarriage_Pad_Width   401125 non-null  int64  \n",
      " 42  Stick_Length              401125 non-null  int64  \n",
      " 43  Thumb                     401125 non-null  int64  \n",
      " 44  Pattern_Changer           401125 non-null  int64  \n",
      " 45  Grouser_Type              401125 non-null  int64  \n",
      " 46  Backhoe_Mounting          401125 non-null  int64  \n",
      " 47  Blade_Type                401125 non-null  int64  \n",
      " 48  Travel_Controls           401125 non-null  int64  \n",
      " 49  Differential_Type         401125 non-null  int64  \n",
      " 50  Steering_Controls         401125 non-null  int64  \n",
      " 51  saleYear                  401125 non-null  int64  \n",
      " 52  saleMonth                 401125 non-null  int64  \n",
      " 53  saleDay                   401125 non-null  int64  \n",
      " 54  saleDayOfWeek             401125 non-null  int64  \n",
      " 55  saleDayOfYear             401125 non-null  int64  \n",
      "dtypes: float64(2), int64(54)\n",
      "memory usage: 171.4 MB\n"
     ]
    }
   ],
   "source": [
    "test_data.info() #Exclude = SalesPrice"
   ]
  },
  {
   "cell_type": "code",
   "execution_count": 45,
   "metadata": {},
   "outputs": [
    {
     "data": {
      "text/plain": [
       "((401125, 56), (401125, 56))"
      ]
     },
     "execution_count": 45,
     "metadata": {},
     "output_type": "execute_result"
    }
   ],
   "source": [
    "x_train.shape, test_data.shape"
   ]
  },
  {
   "cell_type": "code",
   "execution_count": 41,
   "metadata": {},
   "outputs": [],
   "source": [
    "#make prediction on test data"
   ]
  },
  {
   "cell_type": "code",
   "execution_count": 42,
   "metadata": {},
   "outputs": [],
   "source": [
    "test_preds = ideal_model.predict(test_data)"
   ]
  },
  {
   "cell_type": "code",
   "execution_count": 46,
   "metadata": {},
   "outputs": [
    {
     "data": {
      "text/plain": [
       "401125"
      ]
     },
     "execution_count": 46,
     "metadata": {},
     "output_type": "execute_result"
    }
   ],
   "source": [
    "len(test_preds)"
   ]
  },
  {
   "cell_type": "code",
   "execution_count": 47,
   "metadata": {},
   "outputs": [
    {
     "data": {
      "text/plain": [
       "array([13152.14084568, 27219.02023762, 22979.69606061, ...,\n",
       "       24626.81929234, 19694.63355704, 24626.81929234])"
      ]
     },
     "execution_count": 47,
     "metadata": {},
     "output_type": "execute_result"
    }
   ],
   "source": [
    "test_preds"
   ]
  },
  {
   "cell_type": "code",
   "execution_count": 48,
   "metadata": {},
   "outputs": [],
   "source": [
    "#Format the prediction according to the Kaggle info\n",
    "# https://www.kaggle.com/c/bluebook-for-bulldozers/overview/evaluation"
   ]
  },
  {
   "cell_type": "code",
   "execution_count": 49,
   "metadata": {},
   "outputs": [],
   "source": [
    "kaggle_df = pd.DataFrame()\n",
    "\n",
    "kaggle_df['SalesID'] = test_data['SalesID']\n",
    "kaggle_df['SalesPrice'] = test_preds"
   ]
  },
  {
   "cell_type": "code",
   "execution_count": 50,
   "metadata": {},
   "outputs": [
    {
     "data": {
      "text/html": [
       "<div>\n",
       "<style scoped>\n",
       "    .dataframe tbody tr th:only-of-type {\n",
       "        vertical-align: middle;\n",
       "    }\n",
       "\n",
       "    .dataframe tbody tr th {\n",
       "        vertical-align: top;\n",
       "    }\n",
       "\n",
       "    .dataframe thead th {\n",
       "        text-align: right;\n",
       "    }\n",
       "</style>\n",
       "<table border=\"1\" class=\"dataframe\">\n",
       "  <thead>\n",
       "    <tr style=\"text-align: right;\">\n",
       "      <th></th>\n",
       "      <th>SalesID</th>\n",
       "      <th>SalesPrice</th>\n",
       "    </tr>\n",
       "  </thead>\n",
       "  <tbody>\n",
       "    <tr>\n",
       "      <th>0</th>\n",
       "      <td>1646770</td>\n",
       "      <td>13152.140846</td>\n",
       "    </tr>\n",
       "    <tr>\n",
       "      <th>1</th>\n",
       "      <td>1728883</td>\n",
       "      <td>27219.020238</td>\n",
       "    </tr>\n",
       "    <tr>\n",
       "      <th>2</th>\n",
       "      <td>1508502</td>\n",
       "      <td>22979.696061</td>\n",
       "    </tr>\n",
       "    <tr>\n",
       "      <th>3</th>\n",
       "      <td>1452578</td>\n",
       "      <td>29489.794816</td>\n",
       "    </tr>\n",
       "    <tr>\n",
       "      <th>4</th>\n",
       "      <td>1403418</td>\n",
       "      <td>23653.582744</td>\n",
       "    </tr>\n",
       "    <tr>\n",
       "      <th>...</th>\n",
       "      <td>...</td>\n",
       "      <td>...</td>\n",
       "    </tr>\n",
       "    <tr>\n",
       "      <th>401120</th>\n",
       "      <td>6286845</td>\n",
       "      <td>32962.746517</td>\n",
       "    </tr>\n",
       "    <tr>\n",
       "      <th>401121</th>\n",
       "      <td>6287076</td>\n",
       "      <td>17225.849621</td>\n",
       "    </tr>\n",
       "    <tr>\n",
       "      <th>401122</th>\n",
       "      <td>6287313</td>\n",
       "      <td>24626.819292</td>\n",
       "    </tr>\n",
       "    <tr>\n",
       "      <th>401123</th>\n",
       "      <td>6288403</td>\n",
       "      <td>19694.633557</td>\n",
       "    </tr>\n",
       "    <tr>\n",
       "      <th>401124</th>\n",
       "      <td>6285369</td>\n",
       "      <td>24626.819292</td>\n",
       "    </tr>\n",
       "  </tbody>\n",
       "</table>\n",
       "<p>401125 rows × 2 columns</p>\n",
       "</div>"
      ],
      "text/plain": [
       "        SalesID    SalesPrice\n",
       "0       1646770  13152.140846\n",
       "1       1728883  27219.020238\n",
       "2       1508502  22979.696061\n",
       "3       1452578  29489.794816\n",
       "4       1403418  23653.582744\n",
       "...         ...           ...\n",
       "401120  6286845  32962.746517\n",
       "401121  6287076  17225.849621\n",
       "401122  6287313  24626.819292\n",
       "401123  6288403  19694.633557\n",
       "401124  6285369  24626.819292\n",
       "\n",
       "[401125 rows x 2 columns]"
      ]
     },
     "execution_count": 50,
     "metadata": {},
     "output_type": "execute_result"
    }
   ],
   "source": [
    "kaggle_df"
   ]
  },
  {
   "cell_type": "code",
   "execution_count": 51,
   "metadata": {},
   "outputs": [],
   "source": [
    "kaggle_df.to_csv('kaggle_predict.csv',index=False)"
   ]
  },
  {
   "cell_type": "code",
   "execution_count": 52,
   "metadata": {},
   "outputs": [],
   "source": [
    "## Feature_importance_ by scikit learn"
   ]
  },
  {
   "cell_type": "code",
   "execution_count": 53,
   "metadata": {},
   "outputs": [
    {
     "data": {
      "text/plain": [
       "array([3.33624313e-02, 2.07763694e-02, 4.86809235e-02, 1.88971833e-03,\n",
       "       3.40648953e-03, 1.95834683e-01, 3.42299498e-03, 1.45020093e-03,\n",
       "       4.68622391e-02, 4.20881465e-02, 6.43138597e-02, 5.85106069e-03,\n",
       "       3.61446685e-02, 1.48475602e-01, 5.85450922e-02, 6.06339349e-03,\n",
       "       1.87636591e-03, 3.74943825e-03, 3.14562609e-03, 6.59152102e-02,\n",
       "       7.98080793e-04, 5.18659219e-04, 1.29410109e-03, 1.72544960e-04,\n",
       "       1.38384160e-03, 3.75011428e-05, 2.13239083e-03, 3.29102001e-03,\n",
       "       3.18335376e-03, 1.20173402e-03, 4.13951469e-03, 5.47625334e-03,\n",
       "       4.84817141e-03, 1.78986669e-03, 1.23751851e-03, 2.36995660e-02,\n",
       "       1.17999857e-03, 2.09596913e-02, 6.47754719e-03, 1.28916262e-02,\n",
       "       1.93306234e-03, 1.14291165e-03, 1.22427893e-03, 7.11563526e-04,\n",
       "       1.01119386e-03, 3.81774949e-04, 5.32334425e-04, 4.67250641e-03,\n",
       "       2.26343334e-03, 5.37553877e-04, 1.21614055e-03, 7.32898174e-02,\n",
       "       3.77409376e-03, 5.79382613e-03, 2.99179760e-03, 9.95621664e-03])"
      ]
     },
     "execution_count": 53,
     "metadata": {},
     "output_type": "execute_result"
    }
   ],
   "source": [
    "ideal_model.feature_importances_"
   ]
  },
  {
   "cell_type": "code",
   "execution_count": 54,
   "metadata": {},
   "outputs": [],
   "source": [
    "#visualizing the features"
   ]
  },
  {
   "cell_type": "code",
   "execution_count": 66,
   "metadata": {},
   "outputs": [],
   "source": [
    "def plot_features(columns,importance,n=10):\n",
    "    df = (pd.DataFrame({'Feature':columns,'Feature_importance':importance}).sort_values('Feature_importance',ascending=False)\n",
    "          .reset_index(drop=True))\n",
    "    \n",
    "    #plotting\n",
    "    fig,ax = plt.subplots(figsize=(12,8))\n",
    "    ax.barh(df['Feature'][:n],df['Feature_importance'][:n])\n",
    "    ax.set_ylabel('Feature')\n",
    "    ax.set_xlabel('Feature Importance')\n",
    "    ax.invert_yaxis()\n",
    "    plt.show()"
   ]
  },
  {
   "cell_type": "code",
   "execution_count": 67,
   "metadata": {},
   "outputs": [
    {
     "data": {
      "image/png": "[encoded data removed]",
      "text/plain": [
       "<Figure size 864x576 with 1 Axes>"
      ]
     },
     "metadata": {
      "needs_background": "light"
     },
     "output_type": "display_data"
    }
   ],
   "source": [
    "plot_features(x_train.columns,ideal_model.feature_importances_)"
   ]
  },
  {
   "cell_type": "code",
   "execution_count": null,
   "metadata": {},
   "outputs": [],
   "source": []
  }
 ],
 "metadata": {
  "kernelspec": {
   "display_name": "Python 3",
   "language": "python",
   "name": "python3"
  },
  "language_info": {
   "codemirror_mode": {
    "name": "ipython",
    "version": 3
   },
   "file_extension": ".py",
   "mimetype": "text/x-python",
   "name": "python",
   "nbconvert_exporter": "python",
   "pygments_lexer": "ipython3",
   "version": "3.7.0"
  }
 },
 "nbformat": 4,
 "nbformat_minor": 2
}
